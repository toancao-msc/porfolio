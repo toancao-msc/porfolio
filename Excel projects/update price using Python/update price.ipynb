{
  "nbformat": 4,
  "nbformat_minor": 0,
  "metadata": {
    "language_info": {
      "codemirror_mode": {
        "name": "ipython",
        "version": 3
      },
      "file_extension": ".py",
      "mimetype": "text/x-python",
      "name": "python",
      "nbconvert_exporter": "python",
      "pygments_lexer": "ipython3",
      "version": "3.9.4"
    },
    "orig_nbformat": 2,
    "kernelspec": {
      "name": "python394jvsc74a57bd02a4ba1194273094f75303fe17905d2f0dd763f5323336f1843ee66f6c4074c00",
      "display_name": "Python 3.9.4 64-bit"
    },
    "colab": {
      "name": "hew.ipynb",
      "provenance": [],
      "include_colab_link": true
    }
  },
  "cells": [
    {
      "cell_type": "markdown",
      "metadata": {
        "id": "view-in-github",
        "colab_type": "text"
      },
      "source": [
        "<a href=\"https://colab.research.google.com/github/toancao1234/porfolio/blob/master/Excel%20projects/update%20price%20using%20Python/update%20price.ipynb\" target=\"_parent\"><img src=\"https://colab.research.google.com/assets/colab-badge.svg\" alt=\"Open In Colab\"/></a>"
      ]
    },
    {
      "cell_type": "code",
      "metadata": {
        "id": "fJ6Tn_BUUGjF"
      },
      "source": [
        "import openpyxl\n",
        "\n",
        "wb=openpyxl.load_workbook('produceSales.xlsx')"
      ],
      "execution_count": 5,
      "outputs": []
    },
    {
      "cell_type": "code",
      "metadata": {
        "id": "ruFMCupUUGjG"
      },
      "source": [
        "PRICE_UPDATE={'Garlic':3.32,'Celery':1.19,'Lemon':1.27}"
      ],
      "execution_count": 6,
      "outputs": []
    },
    {
      "cell_type": "code",
      "metadata": {
        "id": "WTNrdMviUGjG"
      },
      "source": [
        "sheet=wb['Sheet']"
      ],
      "execution_count": 8,
      "outputs": []
    },
    {
      "cell_type": "code",
      "metadata": {
        "id": "pcXQ5JxtUGjH",
        "outputId": "9dc3e327-73ab-47f8-bbf6-154e5fbc450b"
      },
      "source": [
        "sheet['A1'].value"
      ],
      "execution_count": null,
      "outputs": [
        {
          "output_type": "execute_result",
          "data": {
            "text/plain": [
              "'PRODUCE'"
            ]
          },
          "metadata": {
            "tags": []
          },
          "execution_count": 29
        }
      ]
    },
    {
      "cell_type": "code",
      "metadata": {
        "id": "HLk89YMAUGjH",
        "outputId": "5ef9d781-64a1-42aa-995b-585a89a4063f",
        "colab": {
          "base_uri": "https://localhost:8080/"
        }
      },
      "source": [
        "sheet.max_row"
      ],
      "execution_count": 9,
      "outputs": [
        {
          "output_type": "execute_result",
          "data": {
            "text/plain": [
              "23758"
            ]
          },
          "metadata": {
            "tags": []
          },
          "execution_count": 9
        }
      ]
    },
    {
      "cell_type": "code",
      "metadata": {
        "id": "a8uLV4eXUGjI"
      },
      "source": [
        "for rowNum in range(2,sheet.max_row):\n",
        "    produceName=sheet.cell(row=rowNum,column=1).value\n",
        "    if produceName in PRICE_UPDATE:\n",
        "        sheet.cell(row=rowNum,column=2).value=PRICE_UPDATE[produceName]"
      ],
      "execution_count": 11,
      "outputs": []
    },
    {
      "cell_type": "code",
      "metadata": {
        "id": "DUIHBOuLUGjI"
      },
      "source": [
        "wb.save('update_ProduceSales.xlsx')"
      ],
      "execution_count": 19,
      "outputs": []
    },
    {
      "cell_type": "code",
      "metadata": {
        "id": "nS7WUnTAUGjI",
        "outputId": "76459e98-83b8-4dd4-fb11-79358560261a",
        "colab": {
          "base_uri": "https://localhost:8080/"
        }
      },
      "source": [
        "PRICE_UPDATE['Lemon']"
      ],
      "execution_count": 15,
      "outputs": [
        {
          "output_type": "execute_result",
          "data": {
            "text/plain": [
              "1.27"
            ]
          },
          "metadata": {
            "tags": []
          },
          "execution_count": 15
        }
      ]
    },
    {
      "cell_type": "code",
      "metadata": {
        "id": "Dgy2nPtKUGjI"
      },
      "source": [
        ""
      ],
      "execution_count": null,
      "outputs": []
    }
  ]
}