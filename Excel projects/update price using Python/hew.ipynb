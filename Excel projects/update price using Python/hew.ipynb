{
 "metadata": {
  "language_info": {
   "codemirror_mode": {
    "name": "ipython",
    "version": 3
   },
   "file_extension": ".py",
   "mimetype": "text/x-python",
   "name": "python",
   "nbconvert_exporter": "python",
   "pygments_lexer": "ipython3",
   "version": "3.9.4"
  },
  "orig_nbformat": 2,
  "kernelspec": {
   "name": "python394jvsc74a57bd02a4ba1194273094f75303fe17905d2f0dd763f5323336f1843ee66f6c4074c00",
   "display_name": "Python 3.9.4 64-bit"
  }
 },
 "nbformat": 4,
 "nbformat_minor": 2,
 "cells": [
  {
   "cell_type": "code",
   "execution_count": 26,
   "metadata": {},
   "outputs": [],
   "source": [
    "import openpyxl\n",
    "\n",
    "wb=openpyxl.load_workbook('produceSales.xlsx')"
   ]
  },
  {
   "cell_type": "code",
   "execution_count": 27,
   "metadata": {},
   "outputs": [],
   "source": [
    "PRICE_UPDATE={'Garlic':3.32,'Celery':1.19,'Lemon':1.27}"
   ]
  },
  {
   "cell_type": "code",
   "execution_count": 28,
   "metadata": {},
   "outputs": [
    {
     "output_type": "stream",
     "name": "stderr",
     "text": [
      "<ipython-input-28-deb2bb61224b>:1: DeprecationWarning: Call to deprecated function get_sheet_by_name (Use wb[sheetname]).\n  sheet=wb.get_sheet_by_name('Sheet')\n"
     ]
    }
   ],
   "source": [
    "sheet=wb.get_sheet_by_name('Sheet')"
   ]
  },
  {
   "cell_type": "code",
   "execution_count": 29,
   "metadata": {},
   "outputs": [
    {
     "output_type": "execute_result",
     "data": {
      "text/plain": [
       "'PRODUCE'"
      ]
     },
     "metadata": {},
     "execution_count": 29
    }
   ],
   "source": [
    "sheet['A1'].value"
   ]
  },
  {
   "cell_type": "code",
   "execution_count": 30,
   "metadata": {},
   "outputs": [
    {
     "output_type": "execute_result",
     "data": {
      "text/plain": [
       "23758"
      ]
     },
     "metadata": {},
     "execution_count": 30
    }
   ],
   "source": [
    "sheet.max_row"
   ]
  },
  {
   "cell_type": "code",
   "execution_count": 31,
   "metadata": {},
   "outputs": [],
   "source": [
    "for rowNum in range(2,sheet.max_row):\n",
    "    produceName=sheet.cell(row=rowNum,column=1).value\n",
    "    if produceName in PRICE_UPDATE:\n",
    "        sheet.cell(row=rowNum,column=2).value=PRICE_UPDATE[produceName]"
   ]
  },
  {
   "cell_type": "code",
   "execution_count": 32,
   "metadata": {},
   "outputs": [],
   "source": [
    "wb.save('hahhha.xlsx')"
   ]
  },
  {
   "cell_type": "code",
   "execution_count": 33,
   "metadata": {},
   "outputs": [
    {
     "output_type": "execute_result",
     "data": {
      "text/plain": [
       "1.27"
      ]
     },
     "metadata": {},
     "execution_count": 33
    }
   ],
   "source": [
    "PRICE_UPDATE['Lemon']"
   ]
  },
  {
   "cell_type": "code",
   "execution_count": null,
   "metadata": {},
   "outputs": [],
   "source": []
  }
 ]
}